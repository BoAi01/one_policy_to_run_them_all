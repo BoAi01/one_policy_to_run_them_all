{
 "cells": [
  {
   "cell_type": "code",
   "id": "initial_id",
   "metadata": {
    "collapsed": true,
    "ExecuteTime": {
     "end_time": "2024-09-29T22:24:57.797849Z",
     "start_time": "2024-09-29T22:24:56.386591Z"
    }
   },
   "source": [
    "import os\n",
    "import psutil\n",
    "import logging\n",
    "import time\n",
    "from collections import deque\n",
    "import tree\n",
    "from functools import partial\n",
    "import numpy as np\n",
    "import jax\n",
    "import jax.numpy as jnp\n",
    "from flax.training.train_state import TrainState\n",
    "from flax.training import orbax_utils\n",
    "import orbax.checkpoint\n",
    "import optax\n",
    "import wandb"
   ],
   "outputs": [],
   "execution_count": 1
  },
  {
   "metadata": {
    "ExecuteTime": {
     "end_time": "2024-09-29T22:28:03.378865Z",
     "start_time": "2024-09-29T22:28:03.219866Z"
    }
   },
   "cell_type": "code",
   "source": [
    "best_model_file_name = 'best_name'\n",
    "best_model_check_point_handler = orbax.checkpoint.PyTreeCheckpointHandler(aggregate_filename=best_model_file_name)\n",
    "best_model_checkpointer = orbax.checkpoint.Checkpointer(best_model_check_point_handler)\n",
    "\n",
    "save_path = 'test_save_path'\n",
    "checkpoint = {\n",
    "    \"config_algorithm\": \"self.config.algorithm.to_dict()\",\n",
    "    \"policy\": \"policy_state\",\n",
    "    \"critic\": \"critic_state\"\n",
    "}\n",
    "best_model_checkpointer.save(f\"{save_path}/tmp\", checkpoint)\n",
    "\n",
    "# os.rename(f\"{self.save_path}/tmp/{self.best_model_file_name}\", f\"{self.save_path}/{self.best_model_file_name}\")\n",
    "# os.remove(f\"{self.save_path}/tmp/_METADATA\")\n",
    "# os.rmdir(f\"{self.save_path}/tmp\")\n"
   ],
   "id": "edc129315d374e88",
   "outputs": [
    {
     "ename": "ValueError",
     "evalue": "Destination test_save_path already exists.",
     "output_type": "error",
     "traceback": [
      "\u001B[0;31m---------------------------------------------------------------------------\u001B[0m",
      "\u001B[0;31mValueError\u001B[0m                                Traceback (most recent call last)",
      "Cell \u001B[0;32mIn[3], line 11\u001B[0m\n\u001B[1;32m      5\u001B[0m save_path \u001B[38;5;241m=\u001B[39m \u001B[38;5;124m'\u001B[39m\u001B[38;5;124mtest_save_path\u001B[39m\u001B[38;5;124m'\u001B[39m\n\u001B[1;32m      6\u001B[0m checkpoint \u001B[38;5;241m=\u001B[39m {\n\u001B[1;32m      7\u001B[0m     \u001B[38;5;124m\"\u001B[39m\u001B[38;5;124mconfig_algorithm\u001B[39m\u001B[38;5;124m\"\u001B[39m: \u001B[38;5;124m\"\u001B[39m\u001B[38;5;124mself.config.algorithm.to_dict()\u001B[39m\u001B[38;5;124m\"\u001B[39m,\n\u001B[1;32m      8\u001B[0m     \u001B[38;5;124m\"\u001B[39m\u001B[38;5;124mpolicy\u001B[39m\u001B[38;5;124m\"\u001B[39m: \u001B[38;5;124m\"\u001B[39m\u001B[38;5;124mpolicy_state\u001B[39m\u001B[38;5;124m\"\u001B[39m,\n\u001B[1;32m      9\u001B[0m     \u001B[38;5;124m\"\u001B[39m\u001B[38;5;124mcritic\u001B[39m\u001B[38;5;124m\"\u001B[39m: \u001B[38;5;124m\"\u001B[39m\u001B[38;5;124mcritic_state\u001B[39m\u001B[38;5;124m\"\u001B[39m\n\u001B[1;32m     10\u001B[0m }\n\u001B[0;32m---> 11\u001B[0m \u001B[43mbest_model_checkpointer\u001B[49m\u001B[38;5;241;43m.\u001B[39;49m\u001B[43msave\u001B[49m\u001B[43m(\u001B[49m\u001B[38;5;124;43mf\u001B[39;49m\u001B[38;5;124;43m\"\u001B[39;49m\u001B[38;5;132;43;01m{\u001B[39;49;00m\u001B[43msave_path\u001B[49m\u001B[38;5;132;43;01m}\u001B[39;49;00m\u001B[38;5;124;43m\"\u001B[39;49m\u001B[43m,\u001B[49m\u001B[43m \u001B[49m\u001B[43mcheckpoint\u001B[49m\u001B[43m)\u001B[49m\n\u001B[1;32m     13\u001B[0m \u001B[38;5;66;03m# os.rename(f\"{self.save_path}/tmp/{self.best_model_file_name}\", f\"{self.save_path}/{self.best_model_file_name}\")\u001B[39;00m\n\u001B[1;32m     14\u001B[0m \u001B[38;5;66;03m# os.remove(f\"{self.save_path}/tmp/_METADATA\")\u001B[39;00m\n\u001B[1;32m     15\u001B[0m \u001B[38;5;66;03m# os.rmdir(f\"{self.save_path}/tmp\")\u001B[39;00m\n",
      "File \u001B[0;32m~/github/one_policy_to_run_them_all/venv/lib/python3.11/site-packages/orbax/checkpoint/checkpointer.py:201\u001B[0m, in \u001B[0;36mCheckpointer.save\u001B[0;34m(self, directory, force, *args, **kwargs)\u001B[0m\n\u001B[1;32m    199\u001B[0m       directory\u001B[38;5;241m.\u001B[39mrmtree()  \u001B[38;5;66;03m# Post-sync handled by create_tmp_directory.\u001B[39;00m\n\u001B[1;32m    200\u001B[0m   \u001B[38;5;28;01melse\u001B[39;00m:\n\u001B[0;32m--> 201\u001B[0m     \u001B[38;5;28;01mraise\u001B[39;00m \u001B[38;5;167;01mValueError\u001B[39;00m(\u001B[38;5;124mf\u001B[39m\u001B[38;5;124m'\u001B[39m\u001B[38;5;124mDestination \u001B[39m\u001B[38;5;132;01m{\u001B[39;00mdirectory\u001B[38;5;132;01m}\u001B[39;00m\u001B[38;5;124m already exists.\u001B[39m\u001B[38;5;124m'\u001B[39m)\n\u001B[1;32m    202\u001B[0m ckpt_args \u001B[38;5;241m=\u001B[39m construct_checkpoint_args(\u001B[38;5;28mself\u001B[39m\u001B[38;5;241m.\u001B[39m_handler, \u001B[38;5;28;01mTrue\u001B[39;00m, \u001B[38;5;241m*\u001B[39margs, \u001B[38;5;241m*\u001B[39m\u001B[38;5;241m*\u001B[39mkwargs)\n\u001B[1;32m    203\u001B[0m tmpdir \u001B[38;5;241m=\u001B[39m asyncio\u001B[38;5;241m.\u001B[39mrun(\u001B[38;5;28mself\u001B[39m\u001B[38;5;241m.\u001B[39mcreate_temporary_path(directory))\n",
      "\u001B[0;31mValueError\u001B[0m: Destination test_save_path already exists."
     ]
    }
   ],
   "execution_count": 3
  },
  {
   "metadata": {
    "ExecuteTime": {
     "end_time": "2024-09-29T22:29:51.385928Z",
     "start_time": "2024-09-29T22:29:51.377197Z"
    }
   },
   "cell_type": "code",
   "source": "loaded_algorithm_config = best_model_checkpointer.restore(f\"{save_path}/tmp\")[\"config_algorithm\"]",
   "id": "b83416410098f782",
   "outputs": [],
   "execution_count": 5
  },
  {
   "metadata": {
    "ExecuteTime": {
     "end_time": "2024-09-29T22:29:54.097638Z",
     "start_time": "2024-09-29T22:29:54.094766Z"
    }
   },
   "cell_type": "code",
   "source": "loaded_algorithm_config",
   "id": "ea34709ff3da6b10",
   "outputs": [
    {
     "data": {
      "text/plain": [
       "'self.config.algorithm.to_dict()'"
      ]
     },
     "execution_count": 6,
     "metadata": {},
     "output_type": "execute_result"
    }
   ],
   "execution_count": 6
  },
  {
   "metadata": {},
   "cell_type": "code",
   "outputs": [],
   "execution_count": null,
   "source": [
    "checkpoint_dir = \"/home/research/github/one_policy_to_run_them_all/experiments/runs/one_policy_to_run_them_all/E0/1727644745/models/tmp\"\n",
    "\n",
    "# splitted_path = config.runner.load_model.split(\"/\")\n",
    "# checkpoint_dir = \"/\".join(splitted_path[:-1])\n",
    "# checkpoint_file_name = splitted_path[-1]\n",
    "\n",
    "check_point_handler = orbax.checkpoint.PyTreeCheckpointHandler(aggregate_filename=None)\n",
    "checkpointer = orbax.checkpoint.Checkpointer(check_point_handler)\n",
    "loaded_algorithm_config = checkpointer.restore(checkpoint_dir)[\"config_algorithm\"]\n",
    "for key, value in loaded_algorithm_config.items():\n",
    "    if f\"algorithm.{key}\" not in explicitly_set_algorithm_params:\n",
    "        config.algorithm[key] = value\n",
    "model = PPO(config, env, run_path, writer)\n",
    "\n",
    "target = {\n",
    "    \"config_algorithm\": config.algorithm.to_dict(),\n",
    "    \"policy\": model.policy_state,\n",
    "    \"critic\": model.critic_state\n",
    "}\n",
    "checkpoint = checkpointer.restore(checkpoint_dir, item=target)\n",
    "\n",
    "model.policy_state = checkpoint[\"policy\"]\n",
    "model.critic_state = checkpoint[\"critic\"]\n"
   ],
   "id": "a622efd3c001adc0"
  }
 ],
 "metadata": {
  "kernelspec": {
   "display_name": "Python 3",
   "language": "python",
   "name": "python3"
  },
  "language_info": {
   "codemirror_mode": {
    "name": "ipython",
    "version": 2
   },
   "file_extension": ".py",
   "mimetype": "text/x-python",
   "name": "python",
   "nbconvert_exporter": "python",
   "pygments_lexer": "ipython2",
   "version": "2.7.6"
  }
 },
 "nbformat": 4,
 "nbformat_minor": 5
}
